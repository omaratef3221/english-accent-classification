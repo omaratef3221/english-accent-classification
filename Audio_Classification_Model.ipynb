{
 "cells": [
  {
   "cell_type": "markdown",
   "metadata": {
    "id": "2nDnr4nxmeeq"
   },
   "source": [
    "# **Introduction to this lab:**\n",
    "In this lab, we will be doing a classification of the Quran Reciters. The dataset being used is an opensource dataset from Kaggle. You can read more about the data [here](https://www.kaggle.com/datasets/mohammedalrajeh/quran-recitations-for-audio-classification/). In this lab we will be doing audio classification. Feel free to change the dataset and try other datasets.\n"
   ]
  },
  {
   "cell_type": "markdown",
   "metadata": {
    "id": "bxXflDe0pbcR"
   },
   "source": [
    "\n",
    "# 1. Initializations and Dataset Download\n",
    "Lets start by downloading the dataset and installing the necessary library for downloading directly with the link from kaggle."
   ]
  },
  {
   "cell_type": "code",
   "execution_count": 1,
   "metadata": {},
   "outputs": [],
   "source": [
    "!pip install librosa scikit-image --quiet"
   ]
  },
  {
   "cell_type": "code",
   "execution_count": null,
   "metadata": {
    "colab": {
     "base_uri": "https://localhost:8080/"
    },
    "id": "UKxK7J8n1dX4",
    "outputId": "9c75d77f-161b-45e0-de78-f8afe6039d17"
   },
   "outputs": [
    {
     "name": "stderr",
     "output_type": "stream",
     "text": [
      "Repo card metadata block was not found. Setting CardData to empty.\n"
     ]
    },
    {
     "name": "stdout",
     "output_type": "stream",
     "text": [
      "{'audio_id': Value(dtype='string', id=None), 'audio': Audio(sampling_rate=16000, mono=True, decode=True, id=None), 'raw_text': Value(dtype='string', id=None), 'gender': Value(dtype='string', id=None), 'speaker_id': Value(dtype='string', id=None), 'duration': Value(dtype='float32', id=None), 'accent': ClassLabel(names=['Dutch', 'German', 'Czech', 'Polish', 'French', 'Hungarian', 'Finnish', 'Romanian', 'Slovak', 'Spanish', 'Italian', 'Estonian', 'Lithuanian', 'Croatian', 'Slovene', 'English', 'Scottish', 'Irish', 'NorthernIrish', 'Indian', 'Vietnamese', 'Canadian', 'American'], id=None), 'split': Value(dtype='string', id=None)}\n"
     ]
    }
   ],
   "source": [
    "!pip install -U datasets --quiet --upgrade\n",
    "from datasets import load_dataset\n",
    "dataset = load_dataset(\"westbrook/English_Accent_DataSet\", split=\"train\")\n"
   ]
  },
  {
   "cell_type": "code",
   "execution_count": 36,
   "metadata": {},
   "outputs": [
    {
     "name": "stdout",
     "output_type": "stream",
     "text": [
      "ClassLabel(names=['Dutch', 'German', 'Czech', 'Polish', 'French', 'Hungarian', 'Finnish', 'Romanian', 'Slovak', 'Spanish', 'Italian', 'Estonian', 'Lithuanian', 'Croatian', 'Slovene', 'English', 'Scottish', 'Irish', 'NorthernIrish', 'Indian', 'Vietnamese', 'Canadian', 'American'], id=None)\n"
     ]
    }
   ],
   "source": [
    "print(dataset.features['accent'])"
   ]
  },
  {
   "cell_type": "markdown",
   "metadata": {
    "id": "Jmog2XrjpE-o"
   },
   "source": [
    "# 2. Imports\n",
    "Then we will write all our imports, keep in mind that PyTorch is not automatically detects and trains on GPU, you have to tell it to use `cuda`. In case you want to train on Mac Silicon replace cuda with `mps`."
   ]
  },
  {
   "cell_type": "code",
   "execution_count": 18,
   "metadata": {
    "id": "fVzAOYGA1hgJ"
   },
   "outputs": [],
   "source": [
    "import torch # Main PyTorch Library\n",
    "from torch import nn # Used for creating the layers and loss function\n",
    "from torch.optim import Adam # Adam Optimizer\n",
    "import librosa # Library that is used to read and process audio files\n",
    "from torch.utils.data import Dataset, DataLoader # Dataset class and DataLoader for creating the objects\n",
    "from sklearn.preprocessing import LabelEncoder # Label Encoder to encode the classes from strings to numbers\n",
    "import matplotlib.pyplot as plt # Used for visualizing the images and plotting the training progress\n",
    "import pandas as pd # Used to read/create dataframes (csv) and process tabular data\n",
    "from transformers import Wav2Vec2Model, Wav2Vec2Processor # Wav2Vec2 Model and Processor\n",
    "import numpy as np # preprocessing and numerical/mathematical operations\n",
    "import os # Used to read the images path from the directory\n",
    "import time # Used to calculate time for each epoch or any processing time in seconds\n",
    "from skimage.transform import resize # Used to resize the images and we will use it to resize audio waves\n",
    "\n",
    "# detect the GPU if any, if not use CPU, change \"cuda\" to \"mps\" if you have a mac\n",
    "device = \"mps\""
   ]
  },
  {
   "cell_type": "markdown",
   "metadata": {
    "id": "aPxD-DnytC6J"
   },
   "source": [
    "# 3. Data\n",
    "The dataset consists of audio samples and their corresponding labels (accents). We will organize this data into a pandas DataFrame, where each row contains the audio array and its label.\n",
    "\n",
    "We will then inspect the shape of the DataFrame, check the distribution of classes, and visualize the first 5 rows.\n",
    "\n",
    "Note: The way we process and organize the data may vary depending on the dataset structure.\n"
   ]
  },
  {
   "cell_type": "code",
   "execution_count": 19,
   "metadata": {
    "colab": {
     "base_uri": "https://localhost:8080/",
     "height": 206
    },
    "id": "NkofIz-w2XTD",
    "outputId": "ae755db4-8bb4-4c4a-f7d8-17dce019e159"
   },
   "outputs": [
    {
     "name": "stdout",
     "output_type": "stream",
     "text": [
      "(50382, 2)\n",
      "label\n",
      "15    13511\n",
      "22     8351\n",
      "16     7541\n",
      "17     4167\n",
      "21     2993\n",
      "18     2465\n",
      "19     1351\n",
      "9      1182\n",
      "0      1148\n",
      "1      1069\n",
      "2       937\n",
      "3       858\n",
      "4       756\n",
      "10      717\n",
      "5       641\n",
      "6       571\n",
      "20      563\n",
      "7       553\n",
      "8       385\n",
      "11      266\n",
      "12      175\n",
      "13      120\n",
      "14       62\n",
      "Name: count, dtype: int64\n"
     ]
    },
    {
     "data": {
      "application/vnd.microsoft.datawrangler.viewer.v0+json": {
       "columns": [
        {
         "name": "index",
         "rawType": "int64",
         "type": "integer"
        },
        {
         "name": "audio",
         "rawType": "object",
         "type": "unknown"
        },
        {
         "name": "label",
         "rawType": "int64",
         "type": "integer"
        }
       ],
       "ref": "50677e97-8075-408b-b977-120f0805f306",
       "rows": [
        [
         "0",
         "[-6.10351562e-03 -8.75854492e-03 -7.29370117e-03 ... -1.52587891e-04\n -9.15527344e-05 -9.15527344e-05]",
         "15"
        ],
        [
         "1",
         "[-1.83105469e-04 -2.74658203e-04 -2.44140625e-04 ... -1.83105469e-04\n -1.83105469e-04 -9.15527344e-05]",
         "15"
        ],
        [
         "2",
         "[-9.15527344e-05 -1.22070312e-04 -9.15527344e-05 ... -1.13525391e-02\n  1.98364258e-02 -2.21557617e-02]",
         "15"
        ],
        [
         "3",
         "[-0.00302124 -0.00558472 -0.00787354 ... -0.00222778 -0.0012207\n -0.00033569]",
         "15"
        ],
        [
         "4",
         "[-9.15527344e-05 -1.52587891e-04 -1.22070312e-04 ... -9.15527344e-05\n -2.13623047e-04 -6.10351562e-05]",
         "15"
        ]
       ],
       "shape": {
        "columns": 2,
        "rows": 5
       }
      },
      "text/html": [
       "<div>\n",
       "<style scoped>\n",
       "    .dataframe tbody tr th:only-of-type {\n",
       "        vertical-align: middle;\n",
       "    }\n",
       "\n",
       "    .dataframe tbody tr th {\n",
       "        vertical-align: top;\n",
       "    }\n",
       "\n",
       "    .dataframe thead th {\n",
       "        text-align: right;\n",
       "    }\n",
       "</style>\n",
       "<table border=\"1\" class=\"dataframe\">\n",
       "  <thead>\n",
       "    <tr style=\"text-align: right;\">\n",
       "      <th></th>\n",
       "      <th>audio</th>\n",
       "      <th>label</th>\n",
       "    </tr>\n",
       "  </thead>\n",
       "  <tbody>\n",
       "    <tr>\n",
       "      <th>0</th>\n",
       "      <td>[-0.006103515625, -0.008758544921875, -0.00729...</td>\n",
       "      <td>15</td>\n",
       "    </tr>\n",
       "    <tr>\n",
       "      <th>1</th>\n",
       "      <td>[-0.00018310546875, -0.000274658203125, -0.000...</td>\n",
       "      <td>15</td>\n",
       "    </tr>\n",
       "    <tr>\n",
       "      <th>2</th>\n",
       "      <td>[-9.1552734375e-05, -0.0001220703125, -9.15527...</td>\n",
       "      <td>15</td>\n",
       "    </tr>\n",
       "    <tr>\n",
       "      <th>3</th>\n",
       "      <td>[-0.003021240234375, -0.005584716796875, -0.00...</td>\n",
       "      <td>15</td>\n",
       "    </tr>\n",
       "    <tr>\n",
       "      <th>4</th>\n",
       "      <td>[-9.1552734375e-05, -0.000152587890625, -0.000...</td>\n",
       "      <td>15</td>\n",
       "    </tr>\n",
       "  </tbody>\n",
       "</table>\n",
       "</div>"
      ],
      "text/plain": [
       "                                               audio  label\n",
       "0  [-0.006103515625, -0.008758544921875, -0.00729...     15\n",
       "1  [-0.00018310546875, -0.000274658203125, -0.000...     15\n",
       "2  [-9.1552734375e-05, -0.0001220703125, -9.15527...     15\n",
       "3  [-0.003021240234375, -0.005584716796875, -0.00...     15\n",
       "4  [-9.1552734375e-05, -0.000152587890625, -0.000...     15"
      ]
     },
     "execution_count": 19,
     "metadata": {},
     "output_type": "execute_result"
    }
   ],
   "source": [
    "audio_arrays = [sample[\"audio\"][\"array\"] for sample in dataset]\n",
    "labels = [sample[\"accent\"] for sample in dataset]\n",
    "\n",
    "data_df = pd.DataFrame({\"audio\": audio_arrays, \"label\": labels})\n",
    "print(data_df.shape) \n",
    "print(data_df[\"label\"].value_counts()) \n",
    "data_df.head() "
   ]
  },
  {
   "cell_type": "markdown",
   "metadata": {},
   "source": [
    "# 3.1\n",
    "This code is used to balance the dataset by ensuring each class has the same number of samples. It works as follows:\n",
    "\n",
    "- It loops through each unique label in the DataFrame.\n",
    "- For each label, it selects all rows (sub_df) with that label.\n",
    "- If there are at least 120 samples for that label, it randomly samples 120 rows and adds them to a list.\n",
    "- After processing all labels, it concatenates the sampled DataFrames into a new balanced DataFrame (data_df), where each class has exactly 120 samples.\n",
    "- Finally, it prints the new class distribution and shows the first few rows."
   ]
  },
  {
   "cell_type": "code",
   "execution_count": 20,
   "metadata": {},
   "outputs": [
    {
     "name": "stdout",
     "output_type": "stream",
     "text": [
      "label\n",
      "15    250\n",
      "3     250\n",
      "11    250\n",
      "6     250\n",
      "5     250\n",
      "2     250\n",
      "21    250\n",
      "18    250\n",
      "22    250\n",
      "7     250\n",
      "20    250\n",
      "17    250\n",
      "16    250\n",
      "9     250\n",
      "4     250\n",
      "0     250\n",
      "1     250\n",
      "10    250\n",
      "19    250\n",
      "8     250\n",
      "Name: count, dtype: int64\n",
      "\n"
     ]
    }
   ],
   "source": [
    "new_dfs = []\n",
    "for i in data_df[\"label\"].unique():\n",
    "    sub_df = data_df[data_df['label'] == i]\n",
    "    if len(sub_df) >= 250:\n",
    "        new_dfs.append(sub_df.sample(250))\n",
    "\n",
    "data_df = pd.concat(new_dfs)\n",
    "\n",
    "print(data_df[\"label\"].value_counts())\n",
    "\n",
    "data_df.head()\n",
    "\n",
    "print()"
   ]
  },
  {
   "cell_type": "markdown",
   "metadata": {
    "id": "JikE6X_dt4WW"
   },
   "source": [
    "# 4. Data investigation\n",
    "Now lets dig deeper into our dataset. In the cell below we print the shape of the data which is represented by (rows, columns), then we plot the data distribution for each class. we can see below that our dataset is balanced."
   ]
  },
  {
   "cell_type": "code",
   "execution_count": 21,
   "metadata": {
    "colab": {
     "base_uri": "https://localhost:8080/",
     "height": 744
    },
    "id": "4_i1dYFY4Lyd",
    "outputId": "2d75d2f1-9d96-4a85-df73-e5695a5226da"
   },
   "outputs": [
    {
     "name": "stdout",
     "output_type": "stream",
     "text": [
      "Data Shape is:  (5000, 2)\n",
      "\n",
      "\n",
      "Claases Distrubution is: \n"
     ]
    },
    {
     "data": {
      "image/png": "[encoded data removed]",
      "text/plain": [
       "<Figure size 800x800 with 1 Axes>"
      ]
     },
     "metadata": {},
     "output_type": "display_data"
    }
   ],
   "source": [
    "print(\"Data Shape is: \", data_df.shape) \n",
    "print()\n",
    "\n",
    "print()\n",
    "print(\"Claases Distrubution is: \")\n",
    "\n",
    "class_counts = data_df['label'].value_counts() \n",
    "plt.figure(figsize=(8, 8))\n",
    "\n",
    "plt.pie(class_counts, labels=class_counts.index, autopct='%1.1f%%')\n",
    "\n",
    "\n",
    "plt.title('Class Distribution') \n",
    "\n",
    "plt.show() \n"
   ]
  },
  {
   "cell_type": "markdown",
   "metadata": {
    "id": "SUp_V5ZavZw1"
   },
   "source": [
    "# 5. Data Split\n",
    "Now lets split the dataset into training, validation and testing. Here we will be using it in a bit different way since we will be reading the image paths from the dataframe so better we split the dataframe directly and then read the images. We will do that by getting a random sample of 70% from our data using data_df.sample(frac=0.7,random_state=7) then we will create a new variable of test dataset which we will drop from it the 70% of the train which means that it will be 30% of the data which is the rest of the data using data_df.drop(train.index). Then we will do the same between testing to create validation which will be 50% of the data which means the final split we have is the following:\n",
    "\n",
    "* Training: 70%\n",
    "* Validation: 15%\n",
    "* Testing: 15%"
   ]
  },
  {
   "cell_type": "code",
   "execution_count": 22,
   "metadata": {
    "colab": {
     "base_uri": "https://localhost:8080/"
    },
    "id": "q5O1RkPeZ2D-",
    "outputId": "6cdada79-12a6-42bc-8c56-9bc6935d4f3e"
   },
   "outputs": [
    {
     "name": "stdout",
     "output_type": "stream",
     "text": [
      "Training Shape:  (3500, 2)\n",
      "Validation Shape:  (750, 2)\n",
      "Testing Shape:  (750, 2)\n"
     ]
    }
   ],
   "source": [
    "train=data_df.sample(frac=0.7,random_state=7) # Create training of 70% of the data\n",
    "test=data_df.drop(train.index) # Create testing by removing the 70% of the train data which will result in 30%\n",
    "\n",
    "val=test.sample(frac=0.5,random_state=7) # Create validation of 50% of the testing data\n",
    "test=test.drop(val.index) # Create testing by removing the 50% of the validation data which will result in 50%\n",
    "\n",
    "\n",
    "print(\"Training Shape: \", train.shape) # Print the Trainnig shape (rows, columns)\n",
    "print(\"Validation Shape: \", val.shape) # Print the Validation shape (rows, columns)\n",
    "print(\"Testing Shape: \", test.shape) # Print the Testing shape (rows, columns)"
   ]
  },
  {
   "cell_type": "markdown",
   "metadata": {
    "id": "nHDdSpYGvqd5"
   },
   "source": [
    "# 6. Custom Dataset Class\n",
    "\n",
    "Now lets create some preprocessing objects, first we start by LabelEncoder which converts string classes to numeric for example instead of having the classes as (x, y) it will be (0,1) because machines understands numbers only.\n",
    "\n",
    "\n",
    "* `__init__(self, dataframe):`\n",
    "    When you create an instance of CustomAudioDataset, you need to provide a dataframe (a kind of table with data that we read before).\n",
    "    Inside this function:\n",
    "    * self.dataframe: stores the provided dataframe.\n",
    "    * self.labels: converts the 'Class' column of the dataframe into numeric values with the label encoder we created before. Then moving them to the device (like a GPU `cuda` we defined before) for faster computation.\n",
    "    * self.audios: loads the audio files listed in the 'FilePath' column of the dataframe and converts each audio file into a spectrogram (a visual representation of the spectrum of frequencies in the audio file).\n",
    "\n",
    "\n",
    "* `__len__(self):`\n",
    "    This function tells you how many items are in the dataset. Keep in mind that this function is available in the original `Dataset` class in PyTorch but with the concept of inheritance, we are taking this function and overwriting it.\n",
    "\n",
    "* `__getitem__(self, idx)`:\n",
    "    This function is used to get a specific item from the dataset by its index (idx).\n",
    "    It retrieves the audio and its corresponding label for the given index and prepares them in the required format for the machine learning model. Keep in mind that this function is available in the original `Dataset` class in PyTorch but we also are taking this function and overwriting it.\n",
    "\n",
    "* `get_spectrogram(self, file_path)`:\n",
    "    This is a helper function to convert an audio file into a spectrogram.\n",
    "    It involves several steps:\n",
    "    * Loading the audio file.\n",
    "    * Computing its spectrogram, which is a visual way to represent the different frequencies present in the audio.\n",
    "    * Converting the spectrogram to a decibel (dB) scale, which makes it easier to visualize.\n",
    "    * Resizing the spectrogram to a fixed size, which is necessary because the machine learning model expects inputs of a consistent size."
   ]
  },
  {
   "cell_type": "code",
   "execution_count": 23,
   "metadata": {
    "id": "M8XqYh0uVdDe"
   },
   "outputs": [],
   "source": [
    "class CustomAudioDataset(Dataset):\n",
    "    def __init__(self, dataframe, sr=22050, duration=5):\n",
    "        self.dataframe = dataframe\n",
    "        self.labels = dataframe[\"label\"].astype(int).tolist()\n",
    "        self.audio_arrays = dataframe[\"audio\"].tolist()\n",
    "        self.sr = sr\n",
    "        self.duration = duration\n",
    "        self.img_height = 128\n",
    "        self.img_width = 256\n",
    "\n",
    "    def __len__(self):\n",
    "        return len(self.dataframe)\n",
    "\n",
    "    def __getitem__(self, idx):\n",
    "        signal = self.audio_arrays[idx]\n",
    "        label = self.labels[idx]\n",
    "        spec = self.get_spectrogram(signal)\n",
    "\n",
    "        # Normalize\n",
    "        spec = (spec - spec.mean()) / (spec.std() + 1e-5)\n",
    "\n",
    "        return torch.tensor(spec, dtype=torch.float32).unsqueeze(0), torch.tensor(label, dtype=torch.long)\n",
    "\n",
    "    def get_spectrogram(self, signal):\n",
    "        spec = librosa.feature.melspectrogram(y=signal, sr=self.sr, n_fft=2048, hop_length=512, n_mels=self.img_height)\n",
    "        spec_db = librosa.power_to_db(spec, ref=np.max)\n",
    "        spec_resized = librosa.util.fix_length(spec_db, size=self.img_width, axis=1)\n",
    "        return spec_resized\n"
   ]
  },
  {
   "cell_type": "markdown",
   "metadata": {
    "id": "xhODo1Go31aX"
   },
   "source": [
    "# 7. Create Dataset Objects\n",
    "In this cell we will create 3 objects from the dataset class we created before. Those will be for training, validation and testing."
   ]
  },
  {
   "cell_type": "code",
   "execution_count": 24,
   "metadata": {
    "id": "oGIgkQamZlj_"
   },
   "outputs": [],
   "source": [
    "train_dataset = CustomAudioDataset(dataframe=train)\n",
    "val_dataset = CustomAudioDataset(dataframe=val)\n",
    "test_dataset = CustomAudioDataset(dataframe=test)"
   ]
  },
  {
   "cell_type": "markdown",
   "metadata": {
    "id": "COfQ-SS-_VuO"
   },
   "source": [
    "# 8. Hyperparameters\n",
    "Now we are setting the training hyperparameters, we defined some variables which are the learning rate, batch size and training epoch."
   ]
  },
  {
   "cell_type": "code",
   "execution_count": 25,
   "metadata": {
    "id": "hVyPxzTdaNLH"
   },
   "outputs": [],
   "source": [
    "LR = 1e-5\n",
    "BATCH_SIZE = 4\n",
    "EPOCHS = 25"
   ]
  },
  {
   "cell_type": "markdown",
   "metadata": {
    "id": "WIOyWAak_qHy"
   },
   "source": [
    "# 9. DataLoaders\n",
    "PyTorch provides a class called DataLoader which allows us to create objects of it to simplify the training. Dataloader is an object that we can loop through it to train according to batches. When we start training, we loop through epochs, if you skip the batch size it means that the amount of training data in one batch is equal to the complete amount of training data, this method is not efficient and in most of the cases you need to train through using batches. Dataloader allows you to loop through the batches easily during the training. When you create a dataloader. You define the batch size and enable the `shuffle` to randomize the data and then you can loop through it in each epoch to train normally."
   ]
  },
  {
   "cell_type": "code",
   "execution_count": 26,
   "metadata": {
    "id": "dpx6JAIkaHbY"
   },
   "outputs": [],
   "source": [
    "train_loader = DataLoader(train_dataset, batch_size=BATCH_SIZE)\n",
    "val_loader = DataLoader(val_dataset, batch_size=BATCH_SIZE)\n",
    "test_loader = DataLoader(test_dataset, batch_size=BATCH_SIZE)"
   ]
  },
  {
   "cell_type": "markdown",
   "metadata": {
    "id": "sWbNHGn3_3TL"
   },
   "source": [
    "# 10. Model\n",
    "\n",
    "This code defines a neural network class named Net which inherits from the class `nn.module` in PyTorch.\n",
    "\n",
    "* `__init__(self):`\n",
    "  This is where the neural network is set up. Each layer of the network is defined here.\n",
    "  self.conv1, self.conv2, self.conv3: These are convolutional layers. They are particularly good at processing data that has a grid-like topology, like images (or in this case, spectrograms from audio data). They work by sliding a small window over the input and transforming the section of data within this window at each step.\n",
    "  self.pooling: This is a pooling layer, which reduces the size of the input it's given, helping the network to focus on the most important information.\n",
    "  self.relu: This is an activation function that introduces non-linearity into the network (helping it learn complex patterns).\n",
    "  self.flatten: This layer flattens the output of the previous layers into a one-dimensional array, which can then be fed into traditional dense (fully connected) layers.\n",
    "  self.linear1, self.linear2, self.linear4: These are dense layers, where each neuron is connected to all neurons in the previous layer. They are good at learning complex relationships in data.\n",
    "  self.output: This is the final layer that outputs predictions. The number of neurons here is equal to the number of unique classes in your data.\n",
    "  self.dropout: This is a dropout layer, used to prevent overfitting (where the model learns the training data too well and performs poorly on new, unseen data).\n",
    "  \n",
    "  The firsr linear layer is taking the shape from the flatten, how we calculate the input shape? We know well from the function `get_spectrogram` in `CustomAudioDataset` that the input height is 128, and width is 256. So we keep reducing them by the following (1 is the input channel which is only 1 channel):\n",
    "  * Starting by (1,128,256)\n",
    "  * After conv1 will be (16,128,256)\n",
    "  * After first pooling will be (16,64,128)\n",
    "  * After conv2 will be (32,64,128)\n",
    "  * After second pooling will be (32,32,64)\n",
    "  * After conv3 will be (64,32,64)\n",
    "  * After third pooling will be (64,16,32)\n",
    "  So as per this flow, we know that the firsr linear layer input size is\n",
    "  (64 x 16 x 32)\n",
    "\n",
    "* `forward(self, x)`:\n",
    "  This function defines how the data flows through the network (from input to output).\n",
    "  The data (x) is passed through each layer in the order they were defined in __init__. After each convolutional and pooling layer, the data's shape changes.\n",
    "  After passing through all the layers, the network returns its final output."
   ]
  },
  {
   "cell_type": "code",
   "execution_count": 27,
   "metadata": {
    "colab": {
     "base_uri": "https://localhost:8080/"
    },
    "id": "Mjs684BmaOH9",
    "outputId": "71666dc8-7f16-4bf5-aecc-e79fafe68639"
   },
   "outputs": [],
   "source": [
    "import torch\n",
    "import torch.nn as nn\n",
    "\n",
    "class Net(nn.Module):\n",
    "    def __init__(self, n_classes, in_shape=(1, 128, 256)):\n",
    "        super().__init__()\n",
    "\n",
    "        # feature extractor\n",
    "        self.features = nn.Sequential(\n",
    "            nn.Conv2d(1, 16, kernel_size=3, padding=1),   # (16, 128, 256)\n",
    "            nn.ReLU(inplace=True),\n",
    "            nn.MaxPool2d(2),                              # (16, 64, 128)\n",
    "\n",
    "            nn.Conv2d(16, 32, kernel_size=3, padding=1),  # (32, 64, 128)\n",
    "            nn.ReLU(inplace=True),\n",
    "            nn.MaxPool2d(2),                              # (32, 32, 64)\n",
    "        )\n",
    "\n",
    "        # compute flattened size once\n",
    "        with torch.no_grad():\n",
    "            dummy = torch.zeros(1, *in_shape)\n",
    "            flat_dim = self.features(dummy).numel()\n",
    "\n",
    "        # classifier\n",
    "        self.classifier = nn.Sequential(\n",
    "            nn.Dropout(0.5),\n",
    "            nn.Linear(flat_dim, 256),\n",
    "            nn.ReLU(inplace=True),\n",
    "\n",
    "            nn.Dropout(0.5),\n",
    "            nn.Linear(256, 128),\n",
    "            nn.ReLU(inplace=True),\n",
    "\n",
    "            nn.Dropout(0.5),\n",
    "            nn.Linear(128, 64),\n",
    "            nn.ReLU(inplace=True),\n",
    "\n",
    "            nn.Dropout(0.5),\n",
    "            nn.Linear(64, n_classes),\n",
    "        )\n",
    "\n",
    "    def forward(self, x):\n",
    "        x = self.features(x)\n",
    "        x = x.flatten(1)\n",
    "        x = self.classifier(x)\n",
    "        return x"
   ]
  },
  {
   "cell_type": "markdown",
   "metadata": {
    "id": "gMLpr3SlKRhs"
   },
   "source": [
    "# 11. Model Summary\n",
    "This cell is optional, here we show only the summary of the model and what is the output size for each layer. keep in mind that -1 here will be replaced by the batch size."
   ]
  },
  {
   "cell_type": "code",
   "execution_count": 28,
   "metadata": {
    "colab": {
     "base_uri": "https://localhost:8080/"
    },
    "id": "Ii9mJSYAorqR",
    "outputId": "c17bedaf-1425-4eb3-bbe3-64b478199b40"
   },
   "outputs": [
    {
     "data": {
      "text/plain": [
       "Net(\n",
       "  (features): Sequential(\n",
       "    (0): Conv2d(1, 16, kernel_size=(3, 3), stride=(1, 1), padding=(1, 1))\n",
       "    (1): ReLU(inplace=True)\n",
       "    (2): MaxPool2d(kernel_size=2, stride=2, padding=0, dilation=1, ceil_mode=False)\n",
       "    (3): Conv2d(16, 32, kernel_size=(3, 3), stride=(1, 1), padding=(1, 1))\n",
       "    (4): ReLU(inplace=True)\n",
       "    (5): MaxPool2d(kernel_size=2, stride=2, padding=0, dilation=1, ceil_mode=False)\n",
       "  )\n",
       "  (classifier): Sequential(\n",
       "    (0): Dropout(p=0.5, inplace=False)\n",
       "    (1): Linear(in_features=65536, out_features=256, bias=True)\n",
       "    (2): ReLU(inplace=True)\n",
       "    (3): Dropout(p=0.5, inplace=False)\n",
       "    (4): Linear(in_features=256, out_features=128, bias=True)\n",
       "    (5): ReLU(inplace=True)\n",
       "    (6): Dropout(p=0.5, inplace=False)\n",
       "    (7): Linear(in_features=128, out_features=64, bias=True)\n",
       "    (8): ReLU(inplace=True)\n",
       "    (9): Dropout(p=0.5, inplace=False)\n",
       "    (10): Linear(in_features=64, out_features=20, bias=True)\n",
       "  )\n",
       ")"
      ]
     },
     "execution_count": 28,
     "metadata": {},
     "output_type": "execute_result"
    }
   ],
   "source": [
    "model = Net(len(data_df[\"label\"].unique())).to(device) # Create the model and send it to the GPU\n",
    "model"
   ]
  },
  {
   "cell_type": "markdown",
   "metadata": {
    "id": "zVqfUtXHKm8S"
   },
   "source": [
    "# 12. Loss and Optimizer\n",
    "In the cell below, we will create the loss function which will be the Cross Entropy loss. Also we will have create the Adam optimizer and we will provide to it the parameters of the model we created together with the learning rate."
   ]
  },
  {
   "cell_type": "code",
   "execution_count": 29,
   "metadata": {
    "id": "Rl-DZMsycuTQ"
   },
   "outputs": [],
   "source": [
    "# Define loss function and optimizer\n",
    "criterion = nn.CrossEntropyLoss() # Cross Entropy Loss\n",
    "optimizer = Adam(model.parameters(), lr=LR) # Adam optimizer"
   ]
  },
  {
   "cell_type": "markdown",
   "metadata": {
    "id": "YcyloTU8K4MZ"
   },
   "source": [
    "# 13. Training\n",
    "Now comes the training part. If you know well the training process of deep learning. You will just need to know PyTorch syntax. We start by initializing the for loop with the specified number of epochs which we defined before. But before that we define 4 lists and inside the loop we define another 4 variables.\n",
    "\n",
    "## Variables:\n",
    "* `total_acc_train`: here we will keep tracking of the training accuracy progress during each epoch, we calculate the accuracy during the batch size and we print it in the end for tracking the accuracy on each epoch.\n",
    "\n",
    "* `total_loss_train`: here we will keep tracking of the training loss progress during each epoch, we calculate the accuracy during the batch size and we use the loss value to optimize and modify the model parameters.\n",
    "\n",
    "* `total_acc_val`: here we will keep tracking of the validation accuracy progress during each epoch, we calculate the accuracy during the batch size and we print it in the end for tracking the accuracy on each epoch and help us know if there is any overfitting.\n",
    "\n",
    "* `total_loss_val`: here we will keep tracking of the validation loss progress during each epoch, we calculate the accuracy during the batch size.\n",
    "\n",
    "## Lists:\n",
    "* `total_acc_train_plot`: We append the losses of the training accuracy to visualize them at the end.\n",
    "\n",
    "* `total_loss_train_plot`: We append the losses of the training to visualize them at the end.\n",
    "\n",
    "* `total_acc_validation_plot`: We append the losses of the validation accuracy to visualize them at the end.\n",
    "\n",
    "* `total_loss_validation_plot`: We append the losses of the validation to visualize them at the end.\n",
    "\n",
    "Then, we start to loop through the training dataloaders, we use the enumerate functionality to loop through data and indices at the same time. We are not using the indices here, but lets kept it just if you want to try different stuff with the loop or debug. In the second loop, we start by getting our data from the data loader, then we move the inputs and labels to the cuda device. We allow the model to make a prediction or what is called forward propagation, then we get the output of the model and compare it with our original output using the loss criteration. We add the loss amount to total_loss_train. Additionally, we get the accuracy by comparing the correct batch with the predicted batch and we add it to the total_acc_train. Then we do the `batch_loss.backward()` which makes the backpropagation and we use the optimizer to do a step on the weights using `optimizer.step()` and then we reset the optimizer gradients using `optimizer.zero_grad()` which is a very important step that has to be done before proceeding.\n",
    "\n",
    "After that we exit the batch loop (train dataloader loop) and we start with the validation. Don't forget that we are still in the same epoch. In side that we start by with `torch.no_grad()` so that we freeze the weights, which means that we need the model to do predicitons without being trained. We just need to see the validation preformance. Then we do the same steps which are predicting and calculating loss and accuracy and storing these values.\n",
    "\n",
    "At the end we print after each epoch the epoch number, training loss, training accuracy, validation loss and validation accuracy. Accuracies are calculated by dividing the right predictions by the complete number of samples and multiplying by 100. Losses are being divided by 1000 just to normalize the values and avoid large values.\n",
    "\n"
   ]
  },
  {
   "cell_type": "code",
   "execution_count": 30,
   "metadata": {
    "colab": {
     "base_uri": "https://localhost:8080/"
    },
    "id": "vd3UUvybc8Tl",
    "outputId": "ce0ba3ba-53e4-4ac0-a562-ead41cd6332a"
   },
   "outputs": [
    {
     "name": "stderr",
     "output_type": "stream",
     "text": [
      "/Users/omaratef/miniconda/envs/rbf_fakenews/lib/python3.10/site-packages/librosa/core/spectrum.py:266: UserWarning: n_fft=2048 is too large for input signal of length=0\n",
      "  warnings.warn(\n"
     ]
    },
    {
     "name": "stdout",
     "output_type": "stream",
     "text": [
      "\n",
      "                  Epoch: 1/25, \n",
      "                  Train Loss: 22.1246, \n",
      "                  Train Accuracy: 4.8857, \n",
      "                  Validation Loss: 4.8381, \n",
      "                  Validation Accuracy: 5.7333\n",
      "                  \n",
      "==============================\n",
      "\n",
      "                  Epoch: 2/25, \n",
      "                  Train Loss: 21.7765, \n",
      "                  Train Accuracy: 6.2571, \n",
      "                  Validation Loss: 4.7836, \n",
      "                  Validation Accuracy: 6.5333\n",
      "                  \n",
      "==============================\n",
      "\n",
      "                  Epoch: 3/25, \n",
      "                  Train Loss: 21.5767, \n",
      "                  Train Accuracy: 7.2286, \n",
      "                  Validation Loss: 4.7267, \n",
      "                  Validation Accuracy: 5.6\n",
      "                  \n",
      "==============================\n",
      "\n",
      "                  Epoch: 4/25, \n",
      "                  Train Loss: 21.3715, \n",
      "                  Train Accuracy: 7.2571, \n",
      "                  Validation Loss: 4.6857, \n",
      "                  Validation Accuracy: 6.9333\n",
      "                  \n",
      "==============================\n",
      "\n",
      "                  Epoch: 5/25, \n",
      "                  Train Loss: 21.1928, \n",
      "                  Train Accuracy: 7.8571, \n",
      "                  Validation Loss: 4.6725, \n",
      "                  Validation Accuracy: 8.8\n",
      "                  \n",
      "==============================\n",
      "\n",
      "                  Epoch: 6/25, \n",
      "                  Train Loss: 20.9533, \n",
      "                  Train Accuracy: 8.2, \n",
      "                  Validation Loss: 4.605, \n",
      "                  Validation Accuracy: 8.9333\n",
      "                  \n",
      "==============================\n",
      "\n",
      "                  Epoch: 7/25, \n",
      "                  Train Loss: 20.8436, \n",
      "                  Train Accuracy: 7.7429, \n",
      "                  Validation Loss: 4.5625, \n",
      "                  Validation Accuracy: 9.7333\n",
      "                  \n",
      "==============================\n",
      "\n",
      "                  Epoch: 8/25, \n",
      "                  Train Loss: 20.6287, \n",
      "                  Train Accuracy: 8.3429, \n",
      "                  Validation Loss: 4.4917, \n",
      "                  Validation Accuracy: 11.2\n",
      "                  \n",
      "==============================\n",
      "\n",
      "                  Epoch: 9/25, \n",
      "                  Train Loss: 20.4104, \n",
      "                  Train Accuracy: 9.2571, \n",
      "                  Validation Loss: 4.4517, \n",
      "                  Validation Accuracy: 9.3333\n",
      "                  \n",
      "==============================\n",
      "\n",
      "                  Epoch: 10/25, \n",
      "                  Train Loss: 20.1692, \n",
      "                  Train Accuracy: 9.0286, \n",
      "                  Validation Loss: 4.4722, \n",
      "                  Validation Accuracy: 10.2667\n",
      "                  \n",
      "==============================\n",
      "\n",
      "                  Epoch: 11/25, \n",
      "                  Train Loss: 19.9677, \n",
      "                  Train Accuracy: 10.1143, \n",
      "                  Validation Loss: 4.3963, \n",
      "                  Validation Accuracy: 8.6667\n",
      "                  \n",
      "==============================\n",
      "\n",
      "                  Epoch: 12/25, \n",
      "                  Train Loss: 19.7134, \n",
      "                  Train Accuracy: 9.9714, \n",
      "                  Validation Loss: 4.378, \n",
      "                  Validation Accuracy: 8.9333\n",
      "                  \n",
      "==============================\n",
      "\n",
      "                  Epoch: 13/25, \n",
      "                  Train Loss: 19.7082, \n",
      "                  Train Accuracy: 10.6571, \n",
      "                  Validation Loss: 4.3467, \n",
      "                  Validation Accuracy: 10.1333\n",
      "                  \n",
      "==============================\n",
      "\n",
      "                  Epoch: 14/25, \n",
      "                  Train Loss: 19.5649, \n",
      "                  Train Accuracy: 9.5429, \n",
      "                  Validation Loss: 4.3367, \n",
      "                  Validation Accuracy: 10.2667\n",
      "                  \n",
      "==============================\n",
      "\n",
      "                  Epoch: 15/25, \n",
      "                  Train Loss: 19.5266, \n",
      "                  Train Accuracy: 9.6286, \n",
      "                  Validation Loss: 4.333, \n",
      "                  Validation Accuracy: 9.6\n",
      "                  \n",
      "==============================\n",
      "\n",
      "                  Epoch: 16/25, \n",
      "                  Train Loss: 19.3503, \n",
      "                  Train Accuracy: 10.2857, \n",
      "                  Validation Loss: 4.2676, \n",
      "                  Validation Accuracy: 9.0667\n",
      "                  \n",
      "==============================\n",
      "\n",
      "                  Epoch: 17/25, \n",
      "                  Train Loss: 19.0615, \n",
      "                  Train Accuracy: 10.8571, \n",
      "                  Validation Loss: 4.2392, \n",
      "                  Validation Accuracy: 10.6667\n",
      "                  \n",
      "==============================\n",
      "\n",
      "                  Epoch: 18/25, \n",
      "                  Train Loss: 19.1164, \n",
      "                  Train Accuracy: 10.3429, \n",
      "                  Validation Loss: 4.2241, \n",
      "                  Validation Accuracy: 10.8\n",
      "                  \n",
      "==============================\n",
      "\n",
      "                  Epoch: 19/25, \n",
      "                  Train Loss: 18.7691, \n",
      "                  Train Accuracy: 11.0, \n",
      "                  Validation Loss: 4.2267, \n",
      "                  Validation Accuracy: 9.4667\n",
      "                  \n",
      "==============================\n",
      "\n",
      "                  Epoch: 20/25, \n",
      "                  Train Loss: 18.8526, \n",
      "                  Train Accuracy: 11.3714, \n",
      "                  Validation Loss: 4.2251, \n",
      "                  Validation Accuracy: 10.0\n",
      "                  \n",
      "==============================\n",
      "\n",
      "                  Epoch: 21/25, \n",
      "                  Train Loss: 18.7802, \n",
      "                  Train Accuracy: 10.5143, \n",
      "                  Validation Loss: 4.1864, \n",
      "                  Validation Accuracy: 9.3333\n",
      "                  \n",
      "==============================\n",
      "\n",
      "                  Epoch: 22/25, \n",
      "                  Train Loss: 18.7187, \n",
      "                  Train Accuracy: 10.5429, \n",
      "                  Validation Loss: 4.1861, \n",
      "                  Validation Accuracy: 10.5333\n",
      "                  \n",
      "==============================\n",
      "\n",
      "                  Epoch: 23/25, \n",
      "                  Train Loss: 18.58, \n",
      "                  Train Accuracy: 11.6857, \n",
      "                  Validation Loss: 4.1796, \n",
      "                  Validation Accuracy: 9.8667\n",
      "                  \n",
      "==============================\n",
      "\n",
      "                  Epoch: 24/25, \n",
      "                  Train Loss: 18.5577, \n",
      "                  Train Accuracy: 11.2286, \n",
      "                  Validation Loss: 4.0979, \n",
      "                  Validation Accuracy: 12.5333\n",
      "                  \n",
      "==============================\n",
      "\n",
      "                  Epoch: 25/25, \n",
      "                  Train Loss: 18.6689, \n",
      "                  Train Accuracy: 10.1429, \n",
      "                  Validation Loss: 4.1332, \n",
      "                  Validation Accuracy: 10.6667\n",
      "                  \n",
      "==============================\n"
     ]
    }
   ],
   "source": [
    "total_loss_train_plot = [] # Empty list to be filled with train loss after each epoch\n",
    "total_loss_validation_plot = [] # Empty list to be filled with validation loss after each epoch\n",
    "total_acc_train_plot = [] # Empty list to be filled with train accuracy after each epoch\n",
    "total_acc_validation_plot = [] # Empty list to be filled with validation accuracy after each epoch\n",
    "\n",
    "\n",
    "for epoch in range(EPOCHS):\n",
    "  start_time = time.time() # We use this to calculate the time of each epoch, it starts a counter once called\n",
    "  total_acc_train = 0\n",
    "  total_loss_train = 0\n",
    "  total_loss_val = 0\n",
    "  total_acc_val = 0\n",
    "\n",
    "  for inputs, labels in train_loader:\n",
    "    inputs = inputs.to(device) # Send the inputs to the GPU\n",
    "    labels = labels.to(device) # Send the labels to the GPU\n",
    "    outputs = model(inputs)\n",
    "    train_loss = criterion(outputs, labels)\n",
    "    total_loss_train += train_loss.item()\n",
    "    train_loss.backward()\n",
    "\n",
    "    train_acc = (torch.argmax(outputs, axis = 1) == labels).sum().item()\n",
    "    total_acc_train += train_acc\n",
    "    optimizer.step()\n",
    "    optimizer.zero_grad()\n",
    "\n",
    "  with torch.no_grad():\n",
    "    for inputs, labels in val_loader:\n",
    "      inputs = inputs.to(device)\n",
    "      labels = labels.to(device)\n",
    "      outputs = model(inputs)\n",
    "      val_loss = criterion(outputs, labels)\n",
    "      total_loss_val += val_loss.item()\n",
    "\n",
    "      val_acc = (torch.argmax(outputs, axis = 1) == labels).sum().item()\n",
    "      total_acc_val += val_acc\n",
    "\n",
    "  total_loss_train_plot.append(round(total_loss_train/1000, 4))\n",
    "  total_loss_validation_plot.append(round(total_loss_val/1000, 4))\n",
    "  total_acc_train_plot.append(round(total_acc_train/(train_dataset.__len__())*100, 4))\n",
    "  total_acc_validation_plot.append(round(total_acc_val/(val_dataset.__len__())*100, 4))\n",
    "  epoch_string = f\"\"\"\n",
    "                  Epoch: {epoch+1}/{EPOCHS}, \n",
    "                  Train Loss: {round(total_loss_train/100, 4)}, \n",
    "                  Train Accuracy: {round((total_acc_train/train_dataset.__len__() * 100), 4)}, \n",
    "                  Validation Loss: {round(total_loss_val/100, 4)}, \n",
    "                  Validation Accuracy: {round((total_acc_val/val_dataset.__len__() * 100), 4)}\n",
    "                  \"\"\"\n",
    "  print(epoch_string)\n",
    "  print(\"=\"*30)"
   ]
  },
  {
   "cell_type": "markdown",
   "metadata": {
    "id": "pJf4dDRBT8Ms"
   },
   "source": [
    "# 14. Testing\n",
    "Now in this section, we will be testing our model, we will start the code by with `torch.no_grad():` which means that we are telling PyTorch that we don't want to train the model we will be using it only for testing. Then we will declare initial loss and accuracy as zeros, we will start by looping through the testing dataloader like we did before during training. Inside the loop, we got our data and we moved it to our GPU (`cuda`) and then we ran our model on the data and we got the predictions. After that we get the loss and then we add it to our overall loss, we do the same for accuracy, and finally we print the accuracy."
   ]
  },
  {
   "cell_type": "code",
   "execution_count": 32,
   "metadata": {
    "colab": {
     "base_uri": "https://localhost:8080/"
    },
    "id": "4lOb5Xa9eFc6",
    "outputId": "2c6b8f43-2629-4799-8fbf-64cd3c125e0f"
   },
   "outputs": [
    {
     "name": "stdout",
     "output_type": "stream",
     "text": [
      "Accuracy Score is: 10.93%\n"
     ]
    }
   ],
   "source": [
    "with torch.no_grad():\n",
    "  total_loss_test = 0\n",
    "  total_acc_test = 0\n",
    "  for indx, (input, labels) in enumerate(test_loader):\n",
    "    input = input.to(device)\n",
    "    labels = labels.to(device)\n",
    "    prediction = model(input)\n",
    "\n",
    "    acc = (torch.argmax(prediction, axis = 1) == labels).sum().item()\n",
    "    total_acc_test += acc\n",
    "\n",
    "print(f\"Accuracy Score is: {round((total_acc_test/test_dataset.__len__())*100, 2)}%\")"
   ]
  },
  {
   "cell_type": "markdown",
   "metadata": {
    "id": "47uUczlbUGMi"
   },
   "source": [
    "# 15. Plotting Training Progress\n",
    "Let's plot the training and validation progress through out the EPOCHS. The results may not be very good, feel free to play with the layers, hyperparameters and text filteration to achieve better performance!"
   ]
  },
  {
   "cell_type": "code",
   "execution_count": 33,
   "metadata": {
    "colab": {
     "base_uri": "https://localhost:8080/",
     "height": 507
    },
    "id": "z9A8soPovvOj",
    "outputId": "5e01b9cd-d439-4b69-dc00-1f3e04b68acf"
   },
   "outputs": [
    {
     "data": {
      "image/png": "[encoded data removed]",
      "text/plain": [
       "<Figure size 1500x500 with 2 Axes>"
      ]
     },
     "metadata": {},
     "output_type": "display_data"
    }
   ],
   "source": [
    "fig, axs = plt.subplots(nrows=1, ncols=2, figsize=(15, 5))\n",
    "\n",
    "axs[0].plot(total_loss_train_plot, label='Training Loss')\n",
    "axs[0].plot(total_loss_validation_plot, label='Validation Loss')\n",
    "axs[0].set_title('Training and Validation Loss over Epochs')\n",
    "axs[0].set_xlabel('Epochs')\n",
    "axs[0].set_ylabel('Loss')\n",
    "axs[1].set_ylim([0, 2])\n",
    "axs[0].legend()\n",
    "\n",
    "axs[1].plot(total_acc_train_plot, label='Training Accuracy')\n",
    "axs[1].plot(total_acc_validation_plot, label='Validation Accuracy')\n",
    "axs[1].set_title('Training and Validation Accuracy over Epochs')\n",
    "axs[1].set_xlabel('Epochs')\n",
    "axs[1].set_ylabel('Accuracy')\n",
    "axs[1].set_ylim([0, 100])\n",
    "axs[1].legend()\n",
    "\n",
    "plt.tight_layout()\n",
    "\n",
    "plt.show()"
   ]
  },
  {
   "cell_type": "code",
   "execution_count": 34,
   "metadata": {},
   "outputs": [],
   "source": [
    "torch.save(model.state_dict(), 'model.pth') # Save the model"
   ]
  },
  {
   "cell_type": "code",
   "execution_count": null,
   "metadata": {},
   "outputs": [],
   "source": []
  }
 ],
 "metadata": {
  "accelerator": "GPU",
  "colab": {
   "gpuType": "T4",
   "provenance": []
  },
  "kernelspec": {
   "display_name": "rbf_fakenews",
   "language": "python",
   "name": "python3"
  },
  "language_info": {
   "codemirror_mode": {
    "name": "ipython",
    "version": 3
   },
   "file_extension": ".py",
   "mimetype": "text/x-python",
   "name": "python",
   "nbconvert_exporter": "python",
   "pygments_lexer": "ipython3",
   "version": "3.10.13"
  }
 },
 "nbformat": 4,
 "nbformat_minor": 0
}
